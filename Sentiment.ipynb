{
  "nbformat": 4,
  "nbformat_minor": 0,
  "metadata": {
    "kernelspec": {
      "display_name": "Python 3",
      "language": "python",
      "name": "python3"
    },
    "language_info": {
      "codemirror_mode": {
        "name": "ipython",
        "version": 3
      },
      "file_extension": ".py",
      "mimetype": "text/x-python",
      "name": "python",
      "nbconvert_exporter": "python",
      "pygments_lexer": "ipython3",
      "version": "3.7.6"
    },
    "colab": {
      "name": "Sentiment.ipynb",
      "provenance": []
    },
    "accelerator": "GPU"
  },
  "cells": [
    {
      "cell_type": "code",
      "metadata": {
        "id": "MiZlAIGkM408",
        "colab_type": "code",
        "colab": {
          "base_uri": "https://localhost:8080/",
          "height": 34
        },
        "outputId": "ec56a682-7864-4683-c636-ba79a5c87ee4"
      },
      "source": [
        "from google.colab import drive\n",
        "drive.mount('/mydrive')"
      ],
      "execution_count": null,
      "outputs": [
        {
          "output_type": "stream",
          "text": [
            "Drive already mounted at /mydrive; to attempt to forcibly remount, call drive.mount(\"/mydrive\", force_remount=True).\n"
          ],
          "name": "stdout"
        }
      ]
    },
    {
      "cell_type": "markdown",
      "metadata": {
        "id": "11vLsocgMm2P",
        "colab_type": "text"
      },
      "source": [
        "# Sentiment analysis of movie reviews"
      ]
    },
    {
      "cell_type": "markdown",
      "metadata": {
        "id": "v8yIcdmeMm2Q",
        "colab_type": "text"
      },
      "source": [
        "### The sentiment labels are:\n",
        "\n",
        "* 0 - negative\n",
        "* 1 - somewhat negative\n",
        "* 2 - neutral\n",
        "* 3 - somewhat positive\n",
        "* 4 - positive"
      ]
    },
    {
      "cell_type": "markdown",
      "metadata": {
        "id": "XK90Bm-bMm2R",
        "colab_type": "text"
      },
      "source": [
        "The dataset is comprised of tab-separated files with phrases from the Rotten Tomatoes dataset. The train/test split has been preserved for the purposes of benchmarking, but the sentences have been shuffled from their original order. Each Sentence has been parsed into many phrases by the Stanford parser. Each phrase has a PhraseId. Each sentence has a SentenceId. Phrases that are repeated (such as short/common words) are only included once in the data.\n",
        "\n",
        "* train.tsv contains the phrases and their associated sentiment labels. We have additionally provided a SentenceId so that you can track which phrases belong to a single sentence.\n",
        "* test.tsv contains just phrases. You must assign a sentiment label to each phrase."
      ]
    },
    {
      "cell_type": "code",
      "metadata": {
        "id": "lkAOGHA9Mm2R",
        "colab_type": "code",
        "colab": {}
      },
      "source": [
        "import pandas as pd\n",
        "import numpy as np\n",
        "import string\n",
        "import matplotlib.pyplot as plt\n",
        "import seaborn as sns\n",
        "\n",
        "plt.style.use('seaborn')\n",
        "%matplotlib inline"
      ],
      "execution_count": null,
      "outputs": []
    },
    {
      "cell_type": "code",
      "metadata": {
        "id": "US0ABHakMm2X",
        "colab_type": "code",
        "colab": {}
      },
      "source": [
        "train = pd.read_csv('/mydrive/My Drive/hackathon/sentiment/train.csv',sep='\\t')\n",
        "test = pd.read_csv('/mydrive/My Drive/hackathon/sentiment/test.csv',sep='\\t')"
      ],
      "execution_count": null,
      "outputs": []
    },
    {
      "cell_type": "code",
      "metadata": {
        "id": "Ug3p2xirMm2Z",
        "colab_type": "code",
        "colab": {
          "base_uri": "https://localhost:8080/",
          "height": 195
        },
        "outputId": "186d50f8-f0e8-4670-e395-e39fe992f287"
      },
      "source": [
        "train.head()"
      ],
      "execution_count": null,
      "outputs": [
        {
          "output_type": "execute_result",
          "data": {
            "text/html": [
              "<div>\n",
              "<style scoped>\n",
              "    .dataframe tbody tr th:only-of-type {\n",
              "        vertical-align: middle;\n",
              "    }\n",
              "\n",
              "    .dataframe tbody tr th {\n",
              "        vertical-align: top;\n",
              "    }\n",
              "\n",
              "    .dataframe thead th {\n",
              "        text-align: right;\n",
              "    }\n",
              "</style>\n",
              "<table border=\"1\" class=\"dataframe\">\n",
              "  <thead>\n",
              "    <tr style=\"text-align: right;\">\n",
              "      <th></th>\n",
              "      <th>PhraseId</th>\n",
              "      <th>SentenceId</th>\n",
              "      <th>Phrase</th>\n",
              "      <th>Sentiment</th>\n",
              "    </tr>\n",
              "  </thead>\n",
              "  <tbody>\n",
              "    <tr>\n",
              "      <th>0</th>\n",
              "      <td>1</td>\n",
              "      <td>1</td>\n",
              "      <td>A series of escapades demonstrating the adage ...</td>\n",
              "      <td>1</td>\n",
              "    </tr>\n",
              "    <tr>\n",
              "      <th>1</th>\n",
              "      <td>2</td>\n",
              "      <td>1</td>\n",
              "      <td>A series of escapades demonstrating the adage ...</td>\n",
              "      <td>2</td>\n",
              "    </tr>\n",
              "    <tr>\n",
              "      <th>2</th>\n",
              "      <td>3</td>\n",
              "      <td>1</td>\n",
              "      <td>A series</td>\n",
              "      <td>2</td>\n",
              "    </tr>\n",
              "    <tr>\n",
              "      <th>3</th>\n",
              "      <td>4</td>\n",
              "      <td>1</td>\n",
              "      <td>A</td>\n",
              "      <td>2</td>\n",
              "    </tr>\n",
              "    <tr>\n",
              "      <th>4</th>\n",
              "      <td>5</td>\n",
              "      <td>1</td>\n",
              "      <td>series</td>\n",
              "      <td>2</td>\n",
              "    </tr>\n",
              "  </tbody>\n",
              "</table>\n",
              "</div>"
            ],
            "text/plain": [
              "   PhraseId  ...  Sentiment\n",
              "0         1  ...          1\n",
              "1         2  ...          2\n",
              "2         3  ...          2\n",
              "3         4  ...          2\n",
              "4         5  ...          2\n",
              "\n",
              "[5 rows x 4 columns]"
            ]
          },
          "metadata": {
            "tags": []
          },
          "execution_count": 7
        }
      ]
    },
    {
      "cell_type": "code",
      "metadata": {
        "id": "a1-HKaxUMm2d",
        "colab_type": "code",
        "colab": {
          "base_uri": "https://localhost:8080/",
          "height": 52
        },
        "outputId": "30a7b067-8aa4-4c1e-f3e7-176dfb76f420"
      },
      "source": [
        "train.iloc[0][2]"
      ],
      "execution_count": null,
      "outputs": [
        {
          "output_type": "execute_result",
          "data": {
            "application/vnd.google.colaboratory.intrinsic+json": {
              "type": "string"
            },
            "text/plain": [
              "'A series of escapades demonstrating the adage that what is good for the goose is also good for the gander , some of which occasionally amuses but none of which amounts to much of a story .'"
            ]
          },
          "metadata": {
            "tags": []
          },
          "execution_count": 8
        }
      ]
    },
    {
      "cell_type": "code",
      "metadata": {
        "id": "TVGkvqy1Mm2g",
        "colab_type": "code",
        "colab": {
          "base_uri": "https://localhost:8080/",
          "height": 202
        },
        "outputId": "0c121805-8eb0-409f-d4bc-c7e462896a95"
      },
      "source": [
        "train.info()"
      ],
      "execution_count": null,
      "outputs": [
        {
          "output_type": "stream",
          "text": [
            "<class 'pandas.core.frame.DataFrame'>\n",
            "RangeIndex: 156060 entries, 0 to 156059\n",
            "Data columns (total 4 columns):\n",
            " #   Column      Non-Null Count   Dtype \n",
            "---  ------      --------------   ----- \n",
            " 0   PhraseId    156060 non-null  int64 \n",
            " 1   SentenceId  156060 non-null  int64 \n",
            " 2   Phrase      156060 non-null  object\n",
            " 3   Sentiment   156060 non-null  int64 \n",
            "dtypes: int64(3), object(1)\n",
            "memory usage: 4.8+ MB\n"
          ],
          "name": "stdout"
        }
      ]
    },
    {
      "cell_type": "code",
      "metadata": {
        "id": "_P-Z8aJ-Mm2l",
        "colab_type": "code",
        "colab": {
          "base_uri": "https://localhost:8080/",
          "height": 34
        },
        "outputId": "73b0ce9a-b745-469e-d1e9-791bcf270210"
      },
      "source": [
        "train.shape"
      ],
      "execution_count": null,
      "outputs": [
        {
          "output_type": "execute_result",
          "data": {
            "text/plain": [
              "(156060, 4)"
            ]
          },
          "metadata": {
            "tags": []
          },
          "execution_count": 10
        }
      ]
    },
    {
      "cell_type": "code",
      "metadata": {
        "id": "QpBi1JKXMm2q",
        "colab_type": "code",
        "colab": {
          "base_uri": "https://localhost:8080/",
          "height": 218
        },
        "outputId": "fd1fe97a-0661-449e-a375-2b8578da8bce"
      },
      "source": [
        "train['SentenceId'].value_counts().sort_index()"
      ],
      "execution_count": null,
      "outputs": [
        {
          "output_type": "execute_result",
          "data": {
            "text/plain": [
              "1       63\n",
              "2       18\n",
              "3       35\n",
              "4       40\n",
              "5       10\n",
              "        ..\n",
              "8540    13\n",
              "8541    24\n",
              "8542    10\n",
              "8543     8\n",
              "8544    21\n",
              "Name: SentenceId, Length: 8529, dtype: int64"
            ]
          },
          "metadata": {
            "tags": []
          },
          "execution_count": 11
        }
      ]
    },
    {
      "cell_type": "code",
      "metadata": {
        "id": "Pz8IAbjXMm2t",
        "colab_type": "code",
        "colab": {}
      },
      "source": [
        "import re"
      ],
      "execution_count": null,
      "outputs": []
    },
    {
      "cell_type": "code",
      "metadata": {
        "id": "wVSyOBaDOK1U",
        "colab_type": "code",
        "colab": {
          "base_uri": "https://localhost:8080/",
          "height": 67
        },
        "outputId": "f774af54-7f94-49e2-d6cf-529556fe33f8"
      },
      "source": [
        "import nltk\n",
        "nltk.download('stopwords')"
      ],
      "execution_count": null,
      "outputs": [
        {
          "output_type": "stream",
          "text": [
            "[nltk_data] Downloading package stopwords to /root/nltk_data...\n",
            "[nltk_data]   Package stopwords is already up-to-date!\n"
          ],
          "name": "stdout"
        },
        {
          "output_type": "execute_result",
          "data": {
            "text/plain": [
              "True"
            ]
          },
          "metadata": {
            "tags": []
          },
          "execution_count": 13
        }
      ]
    },
    {
      "cell_type": "code",
      "metadata": {
        "id": "CiYuhYFOMm2w",
        "colab_type": "code",
        "colab": {}
      },
      "source": [
        "from nltk.corpus import stopwords"
      ],
      "execution_count": null,
      "outputs": []
    },
    {
      "cell_type": "code",
      "metadata": {
        "id": "r3vUbRykMm2y",
        "colab_type": "code",
        "colab": {}
      },
      "source": [
        "def stpwrds(x):\n",
        "    strip = re.sub('[^a-zA-Z]',\" \",x)\n",
        "    text = strip.split()\n",
        "    word = [w.lower() for w in text if not w in stopwords.words('english')]\n",
        "    return \" \".join(word)"
      ],
      "execution_count": null,
      "outputs": []
    },
    {
      "cell_type": "code",
      "metadata": {
        "id": "vdYWlopkMm21",
        "colab_type": "code",
        "colab": {
          "base_uri": "https://localhost:8080/",
          "height": 35
        },
        "outputId": "d3047f59-00aa-450c-c791-eb6d4518c773"
      },
      "source": [
        "stpwrds(train.iloc[0][2])"
      ],
      "execution_count": null,
      "outputs": [
        {
          "output_type": "execute_result",
          "data": {
            "application/vnd.google.colaboratory.intrinsic+json": {
              "type": "string"
            },
            "text/plain": [
              "'a series escapades demonstrating adage good goose also good gander occasionally amuses none amounts much story'"
            ]
          },
          "metadata": {
            "tags": []
          },
          "execution_count": 16
        }
      ]
    },
    {
      "cell_type": "code",
      "metadata": {
        "id": "zVlUzD6sMm25",
        "colab_type": "code",
        "colab": {}
      },
      "source": [
        "train['Phrase'] = train['Phrase'].apply(stpwrds)"
      ],
      "execution_count": null,
      "outputs": []
    },
    {
      "cell_type": "code",
      "metadata": {
        "id": "697e3CX7Mm28",
        "colab_type": "code",
        "colab": {}
      },
      "source": [
        "def rp(x):\n",
        "    if x == '':\n",
        "        return np.nan\n",
        "    else:\n",
        "        return x"
      ],
      "execution_count": null,
      "outputs": []
    },
    {
      "cell_type": "code",
      "metadata": {
        "id": "Sa0RBl4YMm2_",
        "colab_type": "code",
        "colab": {}
      },
      "source": [
        "train['Phrase'] = train['Phrase'].apply(rp)"
      ],
      "execution_count": null,
      "outputs": []
    },
    {
      "cell_type": "code",
      "metadata": {
        "id": "5c3Os-L-Mm3B",
        "colab_type": "code",
        "colab": {
          "base_uri": "https://localhost:8080/",
          "height": 101
        },
        "outputId": "2d13c0dd-45f3-42b5-d9ed-ba90307e7390"
      },
      "source": [
        "train.isnull().sum()"
      ],
      "execution_count": null,
      "outputs": [
        {
          "output_type": "execute_result",
          "data": {
            "text/plain": [
              "PhraseId         0\n",
              "SentenceId       0\n",
              "Phrase        1303\n",
              "Sentiment        0\n",
              "dtype: int64"
            ]
          },
          "metadata": {
            "tags": []
          },
          "execution_count": 20
        }
      ]
    },
    {
      "cell_type": "code",
      "metadata": {
        "id": "IE2sh79GMm3E",
        "colab_type": "code",
        "colab": {}
      },
      "source": [
        "train.dropna(inplace=True)"
      ],
      "execution_count": null,
      "outputs": []
    },
    {
      "cell_type": "code",
      "metadata": {
        "id": "g9g5GtqXMm3G",
        "colab_type": "code",
        "colab": {
          "base_uri": "https://localhost:8080/",
          "height": 202
        },
        "outputId": "00535d63-632b-4568-8162-7afae1dba07b"
      },
      "source": [
        "train.info()"
      ],
      "execution_count": null,
      "outputs": [
        {
          "output_type": "stream",
          "text": [
            "<class 'pandas.core.frame.DataFrame'>\n",
            "Int64Index: 154757 entries, 0 to 156059\n",
            "Data columns (total 4 columns):\n",
            " #   Column      Non-Null Count   Dtype \n",
            "---  ------      --------------   ----- \n",
            " 0   PhraseId    154757 non-null  int64 \n",
            " 1   SentenceId  154757 non-null  int64 \n",
            " 2   Phrase      154757 non-null  object\n",
            " 3   Sentiment   154757 non-null  int64 \n",
            "dtypes: int64(3), object(1)\n",
            "memory usage: 5.9+ MB\n"
          ],
          "name": "stdout"
        }
      ]
    },
    {
      "cell_type": "code",
      "metadata": {
        "id": "K-5OILUjMm3K",
        "colab_type": "code",
        "colab": {
          "base_uri": "https://localhost:8080/",
          "height": 296
        },
        "outputId": "15e4e3d6-ff57-4db3-f11c-2d022b733e3d"
      },
      "source": [
        "sns.distplot(train['Sentiment'],kde=False)"
      ],
      "execution_count": null,
      "outputs": [
        {
          "output_type": "execute_result",
          "data": {
            "text/plain": [
              "<matplotlib.axes._subplots.AxesSubplot at 0x7fb19a252048>"
            ]
          },
          "metadata": {
            "tags": []
          },
          "execution_count": 23
        },
        {
          "output_type": "display_data",
          "data": {
            "image/png": "[encoded data removed]",
            "text/plain": [
              "<Figure size 432x288 with 1 Axes>"
            ]
          },
          "metadata": {
            "tags": [],
            "needs_background": "light"
          }
        }
      ]
    },
    {
      "cell_type": "code",
      "metadata": {
        "id": "-OxrTb4gMm3M",
        "colab_type": "code",
        "colab": {}
      },
      "source": [
        "from collections import Counter\n",
        "count = Counter()"
      ],
      "execution_count": null,
      "outputs": []
    },
    {
      "cell_type": "code",
      "metadata": {
        "id": "lDQP6UurMm3O",
        "colab_type": "code",
        "colab": {}
      },
      "source": [
        "# count unique words\n",
        "def count_words(x):\n",
        "    for i in x.values:\n",
        "        for word in i.split():\n",
        "            count[word] +=1\n",
        "    return count"
      ],
      "execution_count": null,
      "outputs": []
    },
    {
      "cell_type": "code",
      "metadata": {
        "id": "hqymnzyQMm3R",
        "colab_type": "code",
        "colab": {}
      },
      "source": [
        "text = train.Phrase"
      ],
      "execution_count": null,
      "outputs": []
    },
    {
      "cell_type": "code",
      "metadata": {
        "id": "_k6VAWaVMm3T",
        "colab_type": "code",
        "colab": {}
      },
      "source": [
        "counter = count_words(text)"
      ],
      "execution_count": null,
      "outputs": []
    },
    {
      "cell_type": "code",
      "metadata": {
        "id": "wzl1G0sSMm3V",
        "colab_type": "code",
        "colab": {}
      },
      "source": [
        "#counter"
      ],
      "execution_count": null,
      "outputs": []
    },
    {
      "cell_type": "code",
      "metadata": {
        "id": "_wrLga0SMm3Y",
        "colab_type": "code",
        "colab": {
          "base_uri": "https://localhost:8080/",
          "height": 34
        },
        "outputId": "c81652bf-b68a-461f-d012-8898dced0958"
      },
      "source": [
        "len(counter)"
      ],
      "execution_count": null,
      "outputs": [
        {
          "output_type": "execute_result",
          "data": {
            "text/plain": [
              "15104"
            ]
          },
          "metadata": {
            "tags": []
          },
          "execution_count": 29
        }
      ]
    },
    {
      "cell_type": "code",
      "metadata": {
        "id": "WrXKYy7AMm3b",
        "colab_type": "code",
        "colab": {}
      },
      "source": [
        "num_words = len(counter)\n",
        "\n",
        "max_len = 20"
      ],
      "execution_count": null,
      "outputs": []
    },
    {
      "cell_type": "code",
      "metadata": {
        "id": "psHyxsZpMm3e",
        "colab_type": "code",
        "colab": {}
      },
      "source": [
        "from sklearn.model_selection import train_test_split"
      ],
      "execution_count": null,
      "outputs": []
    },
    {
      "cell_type": "code",
      "metadata": {
        "id": "WwAZi__JLn4U",
        "colab_type": "code",
        "colab": {}
      },
      "source": [
        "from imblearn.over_sampling import SMOTE"
      ],
      "execution_count": null,
      "outputs": []
    },
    {
      "cell_type": "code",
      "metadata": {
        "id": "b2JFNBVlL1w3",
        "colab_type": "code",
        "colab": {}
      },
      "source": [
        ""
      ],
      "execution_count": null,
      "outputs": []
    },
    {
      "cell_type": "code",
      "metadata": {
        "id": "2_yF7uRVMm3j",
        "colab_type": "code",
        "colab": {}
      },
      "source": [
        "X_train, X_test, y_train, y_test = train_test_split(train['Phrase'],train['Sentiment'], test_size=0.2, random_state=42)"
      ],
      "execution_count": null,
      "outputs": []
    },
    {
      "cell_type": "code",
      "metadata": {
        "id": "UYGIfR8SMm3m",
        "colab_type": "code",
        "colab": {}
      },
      "source": [
        "import tensorflow as tf"
      ],
      "execution_count": null,
      "outputs": []
    },
    {
      "cell_type": "code",
      "metadata": {
        "id": "5kQiy_USMm3o",
        "colab_type": "code",
        "colab": {}
      },
      "source": [
        "tokens = tf.keras.preprocessing.text.Tokenizer(num_words=num_words)\n"
      ],
      "execution_count": null,
      "outputs": []
    },
    {
      "cell_type": "code",
      "metadata": {
        "id": "WgazOQm6Mm3q",
        "colab_type": "code",
        "colab": {}
      },
      "source": [
        "tokens.fit_on_texts(X_train)"
      ],
      "execution_count": null,
      "outputs": []
    },
    {
      "cell_type": "code",
      "metadata": {
        "id": "EZu5awprMm3v",
        "colab_type": "code",
        "colab": {}
      },
      "source": [
        "word_index = tokens.word_index"
      ],
      "execution_count": null,
      "outputs": []
    },
    {
      "cell_type": "code",
      "metadata": {
        "id": "-ClHyLoiMm3x",
        "colab_type": "code",
        "colab": {}
      },
      "source": [
        "train_sequences = tokens.texts_to_sequences(X_train)"
      ],
      "execution_count": null,
      "outputs": []
    },
    {
      "cell_type": "code",
      "metadata": {
        "id": "SaEK_x0fMm3z",
        "colab_type": "code",
        "colab": {
          "base_uri": "https://localhost:8080/",
          "height": 34
        },
        "outputId": "4562d20e-7dea-44c0-cf01-1818edeaaa49"
      },
      "source": [
        "train_sequences[20]"
      ],
      "execution_count": null,
      "outputs": [
        {
          "output_type": "execute_result",
          "data": {
            "text/plain": [
              "[873, 14371, 592, 30, 1875, 30, 23, 33, 172, 8289, 793, 1449]"
            ]
          },
          "metadata": {
            "tags": []
          },
          "execution_count": 38
        }
      ]
    },
    {
      "cell_type": "code",
      "metadata": {
        "id": "SVOij-3dMm32",
        "colab_type": "code",
        "colab": {}
      },
      "source": [
        "from tensorflow.keras.preprocessing.sequence import pad_sequences"
      ],
      "execution_count": null,
      "outputs": []
    },
    {
      "cell_type": "code",
      "metadata": {
        "id": "VDLmq8KeMm35",
        "colab_type": "code",
        "colab": {}
      },
      "source": [
        "train_padded = pad_sequences(train_sequences,maxlen=max_len,padding='post',truncating='post')"
      ],
      "execution_count": null,
      "outputs": []
    },
    {
      "cell_type": "code",
      "metadata": {
        "id": "kFVbmnhOM3tc",
        "colab_type": "code",
        "colab": {
          "base_uri": "https://localhost:8080/",
          "height": 171
        },
        "outputId": "929af58f-875e-45a9-9113-7b770e47c1ff"
      },
      "source": [
        "x,y = SMOTE().fit_resample(train_padded,y_train)"
      ],
      "execution_count": null,
      "outputs": [
        {
          "output_type": "stream",
          "text": [
            "/usr/local/lib/python3.6/dist-packages/sklearn/utils/deprecation.py:87: FutureWarning: Function safe_indexing is deprecated; safe_indexing is deprecated in version 0.22 and will be removed in version 0.24.\n",
            "  warnings.warn(msg, category=FutureWarning)\n",
            "/usr/local/lib/python3.6/dist-packages/sklearn/utils/deprecation.py:87: FutureWarning: Function safe_indexing is deprecated; safe_indexing is deprecated in version 0.22 and will be removed in version 0.24.\n",
            "  warnings.warn(msg, category=FutureWarning)\n",
            "/usr/local/lib/python3.6/dist-packages/sklearn/utils/deprecation.py:87: FutureWarning: Function safe_indexing is deprecated; safe_indexing is deprecated in version 0.22 and will be removed in version 0.24.\n",
            "  warnings.warn(msg, category=FutureWarning)\n",
            "/usr/local/lib/python3.6/dist-packages/sklearn/utils/deprecation.py:87: FutureWarning: Function safe_indexing is deprecated; safe_indexing is deprecated in version 0.22 and will be removed in version 0.24.\n",
            "  warnings.warn(msg, category=FutureWarning)\n"
          ],
          "name": "stderr"
        }
      ]
    },
    {
      "cell_type": "code",
      "metadata": {
        "id": "5HVj9nvPMm37",
        "colab_type": "code",
        "colab": {
          "base_uri": "https://localhost:8080/",
          "height": 67
        },
        "outputId": "b8eea27b-6f34-4578-8c00-7828fd2eb808"
      },
      "source": [
        "train_padded[1]"
      ],
      "execution_count": null,
      "outputs": [
        {
          "output_type": "execute_result",
          "data": {
            "text/plain": [
              "array([11808,  3370,  3701, 13707,  2662,    12,  1047,     0,     0,\n",
              "           0,     0,     0,     0,     0,     0,     0,     0,     0,\n",
              "           0,     0], dtype=int32)"
            ]
          },
          "metadata": {
            "tags": []
          },
          "execution_count": 41
        }
      ]
    },
    {
      "cell_type": "code",
      "metadata": {
        "id": "j9br7iFNMm39",
        "colab_type": "code",
        "colab": {}
      },
      "source": [
        "test_sequences = tokens.texts_to_sequences(X_test)\n",
        "test_padded = pad_sequences(test_sequences,maxlen=max_len,padding='post',truncating='post')"
      ],
      "execution_count": null,
      "outputs": []
    },
    {
      "cell_type": "code",
      "metadata": {
        "id": "oF6iX8KGMm4A",
        "colab_type": "code",
        "colab": {}
      },
      "source": [
        "from tensorflow.keras import Sequential\n",
        "from tensorflow.keras.layers import Dropout, LSTM, Embedding, Dense\n",
        "from tensorflow.keras.initializers import Constant\n",
        "from tensorflow.keras.optimizers import Adam"
      ],
      "execution_count": null,
      "outputs": []
    },
    {
      "cell_type": "code",
      "metadata": {
        "id": "6_aVZV4wMm4C",
        "colab_type": "code",
        "colab": {}
      },
      "source": [
        "model = Sequential()\n",
        "model.add(Embedding(num_words,32,input_length=max_len))\n",
        "model.add(LSTM(64,dropout=0.1))\n",
        "model.add(Dense(64,activation='relu'))\n",
        "model.add(Dense(5,activation='sigmoid'))"
      ],
      "execution_count": null,
      "outputs": []
    },
    {
      "cell_type": "code",
      "metadata": {
        "id": "N3DOs4MxMm4E",
        "colab_type": "code",
        "colab": {}
      },
      "source": [
        "model.compile(loss='sparse_categorical_crossentropy',optimizer=Adam(learning_rate=0.001),metrics=['accuracy'])"
      ],
      "execution_count": null,
      "outputs": []
    },
    {
      "cell_type": "code",
      "metadata": {
        "id": "BfmBPFTLMm4I",
        "colab_type": "code",
        "colab": {
          "base_uri": "https://localhost:8080/",
          "height": 286
        },
        "outputId": "09370cea-835a-4630-9cab-127b76ae6c1e"
      },
      "source": [
        "model.summary()"
      ],
      "execution_count": null,
      "outputs": [
        {
          "output_type": "stream",
          "text": [
            "Model: \"sequential\"\n",
            "_________________________________________________________________\n",
            "Layer (type)                 Output Shape              Param #   \n",
            "=================================================================\n",
            "embedding (Embedding)        (None, 20, 32)            483328    \n",
            "_________________________________________________________________\n",
            "lstm (LSTM)                  (None, 64)                24832     \n",
            "_________________________________________________________________\n",
            "dense (Dense)                (None, 64)                4160      \n",
            "_________________________________________________________________\n",
            "dense_1 (Dense)              (None, 5)                 325       \n",
            "=================================================================\n",
            "Total params: 512,645\n",
            "Trainable params: 512,645\n",
            "Non-trainable params: 0\n",
            "_________________________________________________________________\n"
          ],
          "name": "stdout"
        }
      ]
    },
    {
      "cell_type": "code",
      "metadata": {
        "id": "QbEXuGBBMm4O",
        "colab_type": "code",
        "colab": {
          "base_uri": "https://localhost:8080/",
          "height": 622
        },
        "outputId": "04043273-10a2-4dd3-d059-d4413bc23b47"
      },
      "source": [
        "with tf.device('/device:GPU:1'):\n",
        "  model.fit(x,y,epochs=30,batch_size=64,validation_data=(test_padded,y_test))"
      ],
      "execution_count": null,
      "outputs": [
        {
          "output_type": "stream",
          "text": [
            "Epoch 1/30\n",
            "4901/4901 [==============================] - 39s 8ms/step - loss: 1.2796 - accuracy: 0.4804 - val_loss: 1.1806 - val_accuracy: 0.6135\n",
            "Epoch 2/30\n",
            "4901/4901 [==============================] - 38s 8ms/step - loss: 1.1889 - accuracy: 0.5122 - val_loss: 1.2207 - val_accuracy: 0.5835\n",
            "Epoch 3/30\n",
            "4901/4901 [==============================] - 40s 8ms/step - loss: 1.1333 - accuracy: 0.5325 - val_loss: 1.1376 - val_accuracy: 0.6080\n",
            "Epoch 4/30\n",
            "4901/4901 [==============================] - 40s 8ms/step - loss: 1.0943 - accuracy: 0.5465 - val_loss: 1.1285 - val_accuracy: 0.6133\n",
            "Epoch 5/30\n",
            "4901/4901 [==============================] - 39s 8ms/step - loss: 1.0638 - accuracy: 0.5571 - val_loss: 1.2150 - val_accuracy: 0.5952\n",
            "Epoch 6/30\n",
            "4901/4901 [==============================] - 39s 8ms/step - loss: 1.0386 - accuracy: 0.5673 - val_loss: 1.1832 - val_accuracy: 0.5944\n",
            "Epoch 7/30\n",
            "4901/4901 [==============================] - 39s 8ms/step - loss: 1.0168 - accuracy: 0.5770 - val_loss: 1.2178 - val_accuracy: 0.5898\n",
            "Epoch 8/30\n",
            "4901/4901 [==============================] - 39s 8ms/step - loss: 0.9994 - accuracy: 0.5842 - val_loss: 1.2272 - val_accuracy: 0.5836\n",
            "Epoch 9/30\n",
            "4901/4901 [==============================] - 39s 8ms/step - loss: 0.9822 - accuracy: 0.5918 - val_loss: 1.2011 - val_accuracy: 0.5973\n",
            "Epoch 10/30\n",
            "4901/4901 [==============================] - 41s 8ms/step - loss: 0.9670 - accuracy: 0.5988 - val_loss: 1.2365 - val_accuracy: 0.5910\n",
            "Epoch 11/30\n",
            "4901/4901 [==============================] - 41s 8ms/step - loss: 0.9540 - accuracy: 0.6044 - val_loss: 1.2431 - val_accuracy: 0.5835\n",
            "Epoch 12/30\n",
            "4901/4901 [==============================] - 40s 8ms/step - loss: 0.9396 - accuracy: 0.6116 - val_loss: 1.2610 - val_accuracy: 0.5807\n",
            "Epoch 13/30\n",
            "4901/4901 [==============================] - 40s 8ms/step - loss: 0.9272 - accuracy: 0.6171 - val_loss: 1.2475 - val_accuracy: 0.5891\n",
            "Epoch 14/30\n",
            "4901/4901 [==============================] - 41s 8ms/step - loss: 0.9158 - accuracy: 0.6232 - val_loss: 1.2390 - val_accuracy: 0.5977\n",
            "Epoch 15/30\n",
            "4901/4901 [==============================] - 41s 8ms/step - loss: 0.9059 - accuracy: 0.6287 - val_loss: 1.3001 - val_accuracy: 0.5771\n",
            "Epoch 16/30\n",
            "4901/4901 [==============================] - 42s 9ms/step - loss: 0.8957 - accuracy: 0.6333 - val_loss: 1.2727 - val_accuracy: 0.5802\n",
            "Epoch 17/30\n",
            "4901/4901 [==============================] - 41s 8ms/step - loss: 0.8846 - accuracy: 0.6381 - val_loss: 1.2959 - val_accuracy: 0.5857\n",
            "Epoch 18/30\n",
            "1882/4901 [==========>...................] - ETA: 24s - loss: 0.8565 - accuracy: 0.6528"
          ],
          "name": "stdout"
        }
      ]
    },
    {
      "cell_type": "code",
      "metadata": {
        "id": "kOe9mT7WMm4R",
        "colab_type": "code",
        "colab": {
          "base_uri": "https://localhost:8080/",
          "height": 50
        },
        "outputId": "0ebe879d-0686-4ba0-d281-bfb5b641921e"
      },
      "source": [
        "model.evaluate(test_padded,y_test)"
      ],
      "execution_count": null,
      "outputs": [
        {
          "output_type": "stream",
          "text": [
            "968/968 [==============================] - 3s 3ms/step - loss: 1.3329 - accuracy: 0.6420\n"
          ],
          "name": "stdout"
        },
        {
          "output_type": "execute_result",
          "data": {
            "text/plain": [
              "[1.3329331874847412, 0.641994059085846]"
            ]
          },
          "metadata": {
            "tags": []
          },
          "execution_count": 48
        }
      ]
    },
    {
      "cell_type": "code",
      "metadata": {
        "id": "bDl6DxWYMm4V",
        "colab_type": "code",
        "colab": {
          "base_uri": "https://localhost:8080/",
          "height": 171
        },
        "outputId": "a6406218-c916-47e3-c64a-7a41bc06e592"
      },
      "source": [
        "from sklearn.metrics import confusion_matrix\n",
        "print(confusion_matrix(y_test,model.predict_classes(test_padded)))"
      ],
      "execution_count": null,
      "outputs": [
        {
          "output_type": "stream",
          "text": [
            "WARNING:tensorflow:From <ipython-input-49-2f135a430c87>:2: Sequential.predict_classes (from tensorflow.python.keras.engine.sequential) is deprecated and will be removed after 2021-01-01.\n",
            "Instructions for updating:\n",
            "Please use instead:* `np.argmax(model.predict(x), axis=-1)`,   if your model does multi-class classification   (e.g. if it uses a `softmax` last-layer activation).* `(model.predict(x) > 0.5).astype(\"int32\")`,   if your model does binary classification   (e.g. if it uses a `sigmoid` last-layer activation).\n",
            "[[  635   655   149    17     4]\n",
            " [  581  2809  1857   157    19]\n",
            " [  138  1557 12059  1757   130]\n",
            " [   26   147  2139  3541   747]\n",
            " [    3     6   111   881   827]]\n"
          ],
          "name": "stdout"
        }
      ]
    },
    {
      "cell_type": "code",
      "metadata": {
        "id": "Bfo3zEV2Mm4X",
        "colab_type": "code",
        "colab": {}
      },
      "source": [
        ""
      ],
      "execution_count": null,
      "outputs": []
    },
    {
      "cell_type": "code",
      "metadata": {
        "id": "tfpNn6KIMm4b",
        "colab_type": "code",
        "colab": {}
      },
      "source": [
        ""
      ],
      "execution_count": null,
      "outputs": []
    },
    {
      "cell_type": "code",
      "metadata": {
        "id": "3PKDdvLhMm4e",
        "colab_type": "code",
        "colab": {}
      },
      "source": [
        ""
      ],
      "execution_count": null,
      "outputs": []
    }
  ]
}